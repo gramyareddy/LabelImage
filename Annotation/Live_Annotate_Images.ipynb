{
 "cells": [
  {
   "cell_type": "code",
   "execution_count": 36,
   "metadata": {},
   "outputs": [
    {
     "name": "stdout",
     "output_type": "stream",
     "text": [
      "imported\n"
     ]
    }
   ],
   "source": [
    "import cv2\n",
    "import numpy as np\n",
    "import os\n",
    "import glob\n",
    "import time\n",
    "from keras.models import model_from_json, load_model\n",
    "from xml.dom import minidom\n",
    "import xml.etree.cElementTree as ET\n",
    "print(\"imported\")"
   ]
  },
  {
   "cell_type": "code",
   "execution_count": 48,
   "metadata": {},
   "outputs": [],
   "source": [
    "X1_save = 0\n",
    "Y1_save = 0\n",
    "X2_save = 0\n",
    "Y2_save = 0\n",
    "X1=0\n",
    "Y1=0\n",
    "draw = False\n",
    "frame = np.zeros((100,100),np.uint8)\n",
    "save_frame = np.zeros((100,100),np.uint8)\n",
    "img_folder_path = \"C:\\\\MyLearnings\\\\openCV\\\\Annotation\\\\fromstream\\\\images\\\\\"\n",
    "annot_folder_path = \"C:\\\\MyLearnings\\\\openCV\\\\Annotation\\\\fromstream\\\\annots\\\\\"\n",
    "counter = 0"
   ]
  },
  {
   "cell_type": "code",
   "execution_count": 49,
   "metadata": {},
   "outputs": [],
   "source": [
    "def drawrect(event,x,y,flags,param):\n",
    "    global  frame,X1_save,Y1_save,X2_save,Y2_save,X1,Y1,draw,saved_upimage,saved,save_frame\n",
    "    if event == cv2.EVENT_LBUTTONDOWN:\n",
    "        X1=x\n",
    "        Y1=y\n",
    "        draw = True\n",
    "            \n",
    "\n",
    "    elif event == cv2.EVENT_MOUSEMOVE:\n",
    "        if draw == True:\n",
    "            saved_upimage = frame.copy()\n",
    "            saved = False\n",
    "            image = frame.copy()\n",
    "            cv2.rectangle(image,(X1,Y1),(x,y),(0,0,255),2)\n",
    "            saved_upimage = image\n",
    "\n",
    "    elif event == cv2.EVENT_LBUTTONUP:\n",
    "        draw = False\n",
    "        save_frame = frame.copy()\n",
    "        image = saved_upimage.copy()\n",
    "        cv2.rectangle(image,(X1,Y1),(x,y),(0,0,255))\n",
    "        saved_upimage = image\n",
    "        X1_save = X1\n",
    "        Y1_save = Y1\n",
    "        X2_save = x\n",
    "        Y2_save = y\n"
   ]
  },
  {
   "cell_type": "code",
   "execution_count": 50,
   "metadata": {},
   "outputs": [],
   "source": [
    "def save_clicked():\n",
    "    global save_frame,counter\n",
    "    img_path = img_folder_path + str(counter) + \".jpg\"\n",
    "    cv2.imwrite(img_path,save_frame)\n",
    "    \n",
    "    BndBox = ET.SubElement(root, \"BndBox\")\n",
    "\n",
    "    ET.SubElement(BndBox, \"X1\", name=\"X_1\").text = str(X1_save)\n",
    "    ET.SubElement(BndBox, \"Y1\", name=\"Y_1\").text = str(Y1_save)\n",
    "    \n",
    "    ET.SubElement(BndBox, \"X2\", name=\"X_2\").text = str(X2_save)\n",
    "    ET.SubElement(BndBox, \"Y2\", name=\"Y_2\").text = str(Y2_save)\n",
    "    \n",
    "    \n",
    "    \n",
    "    \n",
    "    \n",
    "    filename_xml = annot_folder_path + str(counter) + \".xml\"\n",
    "    xmlstr = minidom.parseString(ET.tostring(root)).toprettyxml(indent=\"   \")\n",
    "    with open(filename_xml, \"w\") as f:\n",
    "        f.write(xmlstr)\n",
    "    counter += 1"
   ]
  },
  {
   "cell_type": "code",
   "execution_count": 51,
   "metadata": {},
   "outputs": [],
   "source": [
    "cv2.namedWindow('frame')\n",
    "cv2.setMouseCallback(\"frame\",drawrect)\n",
    "saved = True\n",
    "root = ET.Element(\"root\")\n",
    "cap = cv2.VideoCapture(0)\n",
    "\n",
    "while True:\n",
    "    _,frame = cap.read()\n",
    "    if saved == True:\n",
    "        cv2.imshow(\"frame\",frame)\n",
    "    else:\n",
    "        cv2.imshow(\"frame\",saved_upimage)\n",
    "    key = cv2.waitKey(1)\n",
    "    if key == ord('s'):\n",
    "        save_clicked()\n",
    "        saved= True\n",
    "    elif key == ord('q'):\n",
    "        break\n",
    "            \n",
    "cap.release()\n",
    "cv2.destroyAllWindows()"
   ]
  },
  {
   "cell_type": "code",
   "execution_count": null,
   "metadata": {},
   "outputs": [],
   "source": []
  }
 ],
 "metadata": {
  "kernelspec": {
   "display_name": "TensorFlow-GPU-1.13",
   "language": "python",
   "name": "tf-gpu"
  },
  "language_info": {
   "codemirror_mode": {
    "name": "ipython",
    "version": 3
   },
   "file_extension": ".py",
   "mimetype": "text/x-python",
   "name": "python",
   "nbconvert_exporter": "python",
   "pygments_lexer": "ipython3",
   "version": "3.7.7"
  }
 },
 "nbformat": 4,
 "nbformat_minor": 4
}
